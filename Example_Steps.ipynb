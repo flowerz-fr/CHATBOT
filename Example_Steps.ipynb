{
 "cells": [
  {
   "cell_type": "markdown",
   "metadata": {},
   "source": [
    "# Step by Step procedure\n",
    "\n",
    "Steps 1-8 should be run only once."
   ]
  },
  {
   "cell_type": "markdown",
   "metadata": {},
   "source": [
    "1.  In order to not pollute the vector store we will remove the current index:"
   ]
  },
  {
   "cell_type": "code",
   "execution_count": null,
   "metadata": {},
   "outputs": [],
   "source": [
    "from  index_manager import IndexManager\n",
    "index_manager = IndexManager()\n",
    "index_manager.delete_index()"
   ]
  },
  {
   "cell_type": "markdown",
   "metadata": {},
   "source": [
    "2.  In order to use the documentation in the blob storage: "
   ]
  },
  {
   "cell_type": "code",
   "execution_count": 1,
   "metadata": {},
   "outputs": [],
   "source": [
    "from storage_manager import AzureBlobStorageManager\n",
    "\n",
    "\n",
    "manager = AzureBlobStorageManager() # Initialize the manager\n",
    "# run this line if you want to create a container\n",
    "# manager.create_container()  # Create a container\n",
    "# run this line if you want to upload a folder\n",
    "# manager.upload_directory(\"name of local folder\")  # Upload a directory ex: manager.upload_directory(\"PDF\") \n",
    "manager.download_blobs()    # Download all blobs"
   ]
  },
  {
   "cell_type": "markdown",
   "metadata": {},
   "source": [
    "3.  Process all the documents found in the blob:"
   ]
  },
  {
   "cell_type": "code",
   "execution_count": null,
   "metadata": {},
   "outputs": [],
   "source": [
    "from directory_processor import DirectoryProcessor\n",
    "\n",
    "directory_processor = DirectoryProcessor(manager.get_download_folder_path())\n",
    "dataset = directory_processor.process_directory()"
   ]
  },
  {
   "cell_type": "markdown",
   "metadata": {},
   "source": [
    "4. Initialize LLM models:"
   ]
  },
  {
   "cell_type": "code",
   "execution_count": 22,
   "metadata": {},
   "outputs": [],
   "source": [
    "from llm_models import AzureOpenAIManager\n",
    "\n",
    "Model = AzureOpenAIManager()\n",
    "embeddings = Model.create_embeddings()"
   ]
  },
  {
   "cell_type": "markdown",
   "metadata": {},
   "source": [
    "5.  Load all the documents:"
   ]
  },
  {
   "cell_type": "code",
   "execution_count": null,
   "metadata": {},
   "outputs": [],
   "source": [
    "from loader_manager import DocumentLoaderManager\n",
    "\n",
    "loader_manager = DocumentLoaderManager(data=dataset, page_content_column=\"page_content\")\n",
    "\n",
    "try:\n",
    "    documents = loader_manager.load_documents_from_dataframe()\n",
    "except Exception as e:\n",
    "    print(f\"An error occurred: {str(e)}\")"
   ]
  },
  {
   "cell_type": "markdown",
   "metadata": {},
   "source": [
    "6. Split the documents in chunks"
   ]
  },
  {
   "cell_type": "code",
   "execution_count": null,
   "metadata": {},
   "outputs": [],
   "source": [
    "from splitter_manager import DocumentSplitter\n",
    "\n",
    "splitter = DocumentSplitter()\n",
    "\n",
    "try:\n",
    "    # Split the documents\n",
    "    splits = splitter.split_documents(documents)\n",
    "except Exception as e:\n",
    "    print(f\"An error occurred: {str(e)}\")"
   ]
  },
  {
   "cell_type": "markdown",
   "metadata": {},
   "source": [
    "7. Vectorize chucnks and added to a vector Store"
   ]
  },
  {
   "cell_type": "code",
   "execution_count": null,
   "metadata": {},
   "outputs": [],
   "source": [
    "from vector_store_manager import VectorStoreManager\n",
    "\n",
    "vector_store_manager = VectorStoreManager()\n",
    "vector_test = vector_store_manager.add_documents(splits)\n"
   ]
  },
  {
   "cell_type": "markdown",
   "metadata": {},
   "source": [
    "8. Initialize Retriever:"
   ]
  },
  {
   "cell_type": "code",
   "execution_count": null,
   "metadata": {},
   "outputs": [],
   "source": [
    "from retriever_manager import ManagerRetrieve\n",
    "\n",
    "retriever_manager = ManagerRetrieve()\n",
    "retriever_manager.create_retriever()\n",
    "retriever_manager.get_retriever()"
   ]
  },
  {
   "cell_type": "markdown",
   "metadata": {},
   "source": [
    "9. Ask your question"
   ]
  },
  {
   "cell_type": "code",
   "execution_count": 1,
   "metadata": {},
   "outputs": [
    {
     "name": "stdout",
     "output_type": "stream",
     "text": [
      "La cellule 909 du DEG est située dans l'angle nord-est du hall 706, au niveau -3,06 m. Elle contient les échangeurs A1 et C1 et possède une trappe d'accès depuis la passerelle 706. La trappe est verrouillée selon une consigne d'atelier. La cellule mesure 3,5 mètres de longueur, 2,5 mètres de largeur et 2,5 mètres de hauteur. Des traces de coulures sont présentes à proximité du siphon de sol localisé dans le coin sud-ouest de la cellule.\n"
     ]
    }
   ],
   "source": [
    "from QA_manager import QuestionAnswerManager\n",
    "\n",
    "qa_manager = QuestionAnswerManager()\n",
    "result = qa_manager.ask(\"Quelles sont les informations de la cellule 909 du DEG\")\n",
    "print(result[\"answer\"])\n"
   ]
  }
 ],
 "metadata": {
  "kernelspec": {
   "display_name": ".venv",
   "language": "python",
   "name": "python3"
  },
  "language_info": {
   "codemirror_mode": {
    "name": "ipython",
    "version": 3
   },
   "file_extension": ".py",
   "mimetype": "text/x-python",
   "name": "python",
   "nbconvert_exporter": "python",
   "pygments_lexer": "ipython3",
   "version": "3.12.3"
  }
 },
 "nbformat": 4,
 "nbformat_minor": 2
}
