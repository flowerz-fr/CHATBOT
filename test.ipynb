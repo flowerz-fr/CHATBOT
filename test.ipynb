{
 "cells": [
  {
   "cell_type": "code",
   "execution_count": 20,
   "metadata": {},
   "outputs": [
    {
     "name": "stdout",
     "output_type": "stream",
     "text": [
      "Index 'index-orano-investigations' deleted successfully.\n"
     ]
    }
   ],
   "source": [
    "from  index_manager import IndexManager\n",
    "index_manager = IndexManager()\n",
    "index_manager.delete_index()"
   ]
  },
  {
   "cell_type": "code",
   "execution_count": null,
   "metadata": {},
   "outputs": [],
   "source": [
    "from storage_manager import AzureBlobStorageManager\n",
    "\n",
    "manager = AzureBlobStorageManager() # Initialize the manager\n",
    "manager.create_container()  # Create a container\n",
    "manager.upload_directory()  # Upload a directory\n",
    "manager.download_blobs()    # Download all blobs"
   ]
  },
  {
   "cell_type": "code",
   "execution_count": 21,
   "metadata": {},
   "outputs": [],
   "source": [
    "from directory_processor import DirectoryProcessor\n",
    "\n",
    "directory_processor = DirectoryProcessor(\"C:\\\\Users\\\\gciprianherrera\\\\Desktop\\\\OranoDS\\\\Chatbot-Orano-DS\\\\downloaded_files\")\n",
    "dataset = directory_processor.process_directory()"
   ]
  },
  {
   "cell_type": "code",
   "execution_count": 22,
   "metadata": {},
   "outputs": [],
   "source": [
    "from llm_models import AzureOpenAIManager\n",
    "\n",
    "Model = AzureOpenAIManager()\n",
    "embeddings = Model.create_embeddings()"
   ]
  },
  {
   "cell_type": "code",
   "execution_count": 23,
   "metadata": {},
   "outputs": [
    {
     "name": "stdout",
     "output_type": "stream",
     "text": [
      "Documents loaded successfully.\n"
     ]
    }
   ],
   "source": [
    "from loader_manager import DocumentLoaderManager\n",
    "\n",
    "loader_manager = DocumentLoaderManager(data=dataset, page_content_column=\"page_content\")\n",
    "\n",
    "try:\n",
    "    documents = loader_manager.load_documents_from_dataframe()\n",
    "except Exception as e:\n",
    "    print(f\"An error occurred: {str(e)}\")"
   ]
  },
  {
   "cell_type": "code",
   "execution_count": 24,
   "metadata": {},
   "outputs": [
    {
     "name": "stdout",
     "output_type": "stream",
     "text": [
      "Documents split successfully.\n"
     ]
    }
   ],
   "source": [
    "from splitter_manager import DocumentSplitter\n",
    "\n",
    "splitter = DocumentSplitter()\n",
    "\n",
    "try:\n",
    "    # Split the documents\n",
    "    splits = splitter.split_documents(documents)\n",
    "except Exception as e:\n",
    "    print(f\"An error occurred: {str(e)}\")"
   ]
  },
  {
   "cell_type": "code",
   "execution_count": 25,
   "metadata": {},
   "outputs": [
    {
     "name": "stdout",
     "output_type": "stream",
     "text": [
      "Documents added successfully.\n"
     ]
    }
   ],
   "source": [
    "from vector_store_manager import VectorStoreManager\n",
    "\n",
    "vector_store_manager = VectorStoreManager()\n",
    "vector_test = vector_store_manager.add_documents(splits)\n"
   ]
  },
  {
   "cell_type": "code",
   "execution_count": 26,
   "metadata": {},
   "outputs": [
    {
     "data": {
      "text/plain": [
       "AzureAISearchRetriever(service_name='fcoaysearchopenai01', index_name='index-orano-investigations', api_key='7Ib46eoW4qPUTahv3UmyBVT8ua5oBTUQyvdfZSuhabAzSeAUgeBA', top_k=30)"
      ]
     },
     "execution_count": 26,
     "metadata": {},
     "output_type": "execute_result"
    }
   ],
   "source": [
    "from retriever_manager import ManagerRetrieve\n",
    "\n",
    "retriever_manager = ManagerRetrieve()\n",
    "retriever_manager.create_retriever()\n",
    "retriever_manager.get_retriever()"
   ]
  },
  {
   "cell_type": "code",
   "execution_count": 2,
   "metadata": {},
   "outputs": [
    {
     "data": {
      "text/plain": [
       "{'input': 'DDD des PE de boues sur la fosse 217-02 du DEG ',\n",
       " 'sources': ['C:\\\\Users\\\\gciprianherrera\\\\Desktop\\\\OranoDS\\\\Chatbot-Orano-DS\\\\downloaded_files\\\\DEG\\\\ELH-2021-021517.pdf'],\n",
       " 'answer': 'Le DDD des PE de boues sur la fosse 217-02 du DEG est de 2,5 mGy/h au contact sous 7 mg/cm² et de 0,4 mGy/h au contact sous 300 mg/cm².'}"
      ]
     },
     "execution_count": 2,
     "metadata": {},
     "output_type": "execute_result"
    }
   ],
   "source": [
    "from QA_manager import QuestionAnswerManager\n",
    "\n",
    "qa_manager = QuestionAnswerManager()\n",
    "result = qa_manager.ask(\"DDD des PE de boues sur la fosse 217-02 du DEG \")\n",
    "\n",
    "result\n"
   ]
  },
  {
   "cell_type": "code",
   "execution_count": null,
   "metadata": {},
   "outputs": [],
   "source": [
    "from answer_manager import ResultProcessor\n",
    "\n",
    "answer_manager = ResultProcessor()\n",
    "answer_manager.create_json_result(result)"
   ]
  }
 ],
 "metadata": {
  "kernelspec": {
   "display_name": ".venv",
   "language": "python",
   "name": "python3"
  },
  "language_info": {
   "codemirror_mode": {
    "name": "ipython",
    "version": 3
   },
   "file_extension": ".py",
   "mimetype": "text/x-python",
   "name": "python",
   "nbconvert_exporter": "python",
   "pygments_lexer": "ipython3",
   "version": "3.12.3"
  }
 },
 "nbformat": 4,
 "nbformat_minor": 2
}
