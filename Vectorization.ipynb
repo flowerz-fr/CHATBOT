{
 "cells": [
  {
   "cell_type": "code",
   "execution_count": null,
   "metadata": {},
   "outputs": [],
   "source": [
    "from Dataset import DatasetBuilder\n",
    "\n",
    "start_directory = \"C:\\\\Users\\\\gciprianherrera\\\\Desktop\\\\LLM\\\\MVP_Chatbot\\\\PDF\"\n",
    "pdf_processor = DatasetBuilder(start_directory)\n",
    "data = pdf_processor.process_directory()"
   ]
  },
  {
   "cell_type": "code",
   "execution_count": 2,
   "metadata": {},
   "outputs": [],
   "source": [
    "\n",
    "import os\n",
    "from openai import AzureOpenAI\n",
    "from dotenv import load_dotenv\n",
    "from langchain_openai import AzureChatOpenAI\n",
    "from langchain_community.vectorstores.azuresearch import AzureSearch\n",
    "from langchain_openai import AzureOpenAIEmbeddings\n",
    "model: str = \"text-embedding-ada-002\"\n",
    "\n",
    "\n",
    "from langchain import hub\n",
    "from langchain_chroma import Chroma\n",
    "from langchain_core.output_parsers import StrOutputParser\n",
    "from langchain_core.runnables import RunnablePassthrough\n",
    "from langchain_openai import OpenAIEmbeddings\n",
    "from langchain_text_splitters import RecursiveCharacterTextSplitter"
   ]
  },
  {
   "cell_type": "code",
   "execution_count": 4,
   "metadata": {},
   "outputs": [],
   "source": [
    "llm = AzureChatOpenAI(\n",
    "    azure_endpoint=os.getenv(\"AZURE_OPENAI_ENDPOINT\"),\n",
    "    api_key=os.getenv(\"AZURE_OPENAI_API_KEY\"),\n",
    "    api_version=\"2023-05-15\",\n",
    "    azure_deployment=os.getenv(\"AZURE_OPENAI_DEPLOYMENT_NAME\"),\n",
    "    model=os.getenv(\"AZURE_OPENAI_MODEL\"),\n",
    "    temperature=0,\n",
    ")"
   ]
  },
  {
   "cell_type": "code",
   "execution_count": 3,
   "metadata": {},
   "outputs": [],
   "source": [
    "embeddings: AzureOpenAIEmbeddings = AzureOpenAIEmbeddings(\n",
    "    azure_endpoint=os.getenv(\"AZURE_OPENAI_EMB_ENDPOINT\"),\n",
    "    api_key=os.getenv(\"AZURE_OPENAI_EMB_API_KEY\"),\n",
    "    openai_api_version=\"2023-05-15\",\n",
    "    azure_deployment=os.getenv(\"AZURE_OPENAI_EMB_DEPLOYMENT_NAME\"),\n",
    ")"
   ]
  },
  {
   "cell_type": "code",
   "execution_count": 6,
   "metadata": {},
   "outputs": [],
   "source": [
    "index_name: str = \"complete_dataset\"\n",
    "vector_store: AzureSearch = AzureSearch(\n",
    "    azure_search_key = os.getenv(\"AZURE_AI_SEARCH_API_KEY\"),\n",
    "    azure_search_endpoint = os.getenv(\"AZURE_AI_SEARCH_ENDPOINT\"),\n",
    "    index_name=index_name,\n",
    "    embedding_function=embeddings.embed_query\n",
    ")"
   ]
  },
  {
   "cell_type": "code",
   "execution_count": 7,
   "metadata": {},
   "outputs": [],
   "source": [
    "import pandas as pd\n",
    "from langchain_community.document_loaders import DataFrameLoader\n",
    "\n",
    "loader = DataFrameLoader(data, page_content_column=\"page_content\")\n",
    "documents = loader.load()"
   ]
  },
  {
   "cell_type": "code",
   "execution_count": null,
   "metadata": {},
   "outputs": [],
   "source": [
    "from langchain_text_splitters import RecursiveCharacterTextSplitter\n",
    "import tiktoken\n",
    "\n",
    "tokenizer = tiktoken.get_encoding('cl100k_base')\n",
    "def tiktoken_len(text):\n",
    "    tokens = tokenizer.encode(text, disallowed_special=())\n",
    "    return len(tokens)\n",
    "text_splitter = RecursiveCharacterTextSplitter(\n",
    "    chunk_size=100,\n",
    "    chunk_overlap=5,\n",
    "    length_function=tiktoken_len,\n",
    "    separators=[\"\\n\", \" \", \"\"])\n",
    "splits = text_splitter.split_documents(documents)\n",
    "vector_store.add_documents(documents=splits)"
   ]
  },
  {
   "cell_type": "code",
   "execution_count": 9,
   "metadata": {},
   "outputs": [],
   "source": [
    "AZURE_AI_SEARCH_API_KEY=os.getenv(\"AZURE_AI_SEARCH_API_KEY\")\n",
    "AZURE_AI_SEARCH_ENDPOINT=os.getenv(\"AZURE_AI_SEARCH_ENDPOINT\")\n",
    "AZURE_AI_SEARCH_DEPLOYEMENT_ID=os.getenv(\"AZURE_AI_SEARCH_DEPLOYEMENT_ID\")\n",
    "AZURE_AI_SEARCH_INDEX_NAME=os.getenv(\"AZURE_AI_SEARCH_INDEX_NAME\")\n",
    "AZURE_AI_SEARCH_SERVICE_NAME=os.getenv(\"AZURE_AI_SEARCH_SERVICE_NAME\")"
   ]
  },
  {
   "cell_type": "code",
   "execution_count": 1,
   "metadata": {},
   "outputs": [],
   "source": [
    "from langchain.chains import create_retrieval_chain\n",
    "from langchain.chains.combine_documents import create_stuff_documents_chain\n",
    "from langchain_core.prompts import ChatPromptTemplate\n",
    "import os\n",
    "from langchain_openai import AzureChatOpenAI\n",
    "\n",
    "from langchain_community.retrievers import (\n",
    "    AzureAISearchRetriever,   \n",
    ")\n",
    "\n",
    "llm = AzureChatOpenAI(\n",
    "    azure_endpoint=os.getenv(\"AZURE_OPENAI_ENDPOINT\"),\n",
    "    api_key=os.getenv(\"AZURE_OPENAI_API_KEY\"),\n",
    "    api_version=\"2023-05-15\",\n",
    "    azure_deployment=os.getenv(\"AZURE_OPENAI_DEPLOYMENT_NAME\"),\n",
    "    model=\"gpt-35-turbo\",\n",
    "    temperature=0,\n",
    ")\n",
    "\n",
    "index_name: str = \"complete_dataset\"\n",
    "retriever = AzureAISearchRetriever(\n",
    "    content_key=\"content\", top_k=30, index_name=index_name\n",
    ")\n",
    "\n",
    "# query = \"quel est l'interet de la cellulle 951\"\n",
    "query = \"quelle est l'objectif du compte rendu de la cellule 951 DEG\"\n",
    "# query = \"de quoi il s'agit l'investigaton dans la zone nord ouest\"\n",
    "# query = \"de quoi il s'agit Investigation sur l’ensemble porte-lame cellule 904\"\n",
    "# query = \"a quelle perimetre appartient la porte-lame cellule 904\"\n",
    "# query = \"qu'elles sont les équipements investigués sur le périmètre DEG\"\n",
    "# query = \"qu'elle est ledebit de dose de la 951 du DEG\"\n",
    "# query = \"qu'elles sont les informations de la cellule 909 du DEG\"\n",
    "# query = \"qu'elle est le volume boue de de la fosse 217-02 du DEG\"\n",
    "# query = \"DDD des PE de boues sur la fosse 217-02 du DEG\"\n",
    "# query = \"enseignements sur investigation de la cellule 959B du HADE\"\n",
    "# query = \"quelles les informations sur l'état de la cellule 929A du périmètre HADE\"\n",
    "\n",
    "system_prompt = (\n",
    "    \"Use the given context to answer the question. \"\n",
    "    \"If you don't know the answer, say you don't know. \"\n",
    "    \"Use five sentence maximum and keep the answer concise. \"\n",
    "    \"Context: {context}\"\n",
    ")\n",
    "prompt = ChatPromptTemplate.from_messages(\n",
    "    [\n",
    "        (\"system\", system_prompt),\n",
    "        (\"human\", \"{input}\"),\n",
    "    ]\n",
    ")\n",
    "question_answer_chain = create_stuff_documents_chain(llm, prompt)\n",
    "chain = create_retrieval_chain(retriever, question_answer_chain)"
   ]
  },
  {
   "cell_type": "code",
   "execution_count": 4,
   "metadata": {},
   "outputs": [
    {
     "data": {
      "text/plain": [
       "\"L'objectif du compte-rendu de la cellule 951 DEG est de présenter les résultats des investigations réalisées dans cette cellule du bâtiment Dégainage depuis la salle 707. Cette investigation est décrite dans la Gamme Opératoire citée dans les documents de référence et a été réalisée en Janvier 2019.\""
      ]
     },
     "execution_count": 4,
     "metadata": {},
     "output_type": "execute_result"
    }
   ],
   "source": [
    "chain.invoke({\"input\": query})['answer']"
   ]
  },
  {
   "cell_type": "code",
   "execution_count": 5,
   "metadata": {},
   "outputs": [],
   "source": [
    "class Chatbot:\n",
    "    def __init__(self):\n",
    "        self.llm = AzureChatOpenAI(\n",
    "            azure_endpoint=os.getenv(\"AZURE_OPENAI_ENDPOINT\"),\n",
    "            api_key=os.getenv(\"AZURE_OPENAI_API_KEY\"),\n",
    "            api_version=\"2023-05-15\",\n",
    "            azure_deployment=os.getenv(\"AZURE_OPENAI_DEPLOYMENT_NAME\"),\n",
    "            model=\"gpt-35-turbo\",\n",
    "            temperature=0,\n",
    "        )\n",
    "\n",
    "        self.index_name = \"complete_dataset\"\n",
    "        self.retriever = AzureAISearchRetriever(\n",
    "            content_key=\"content\", top_k=30, index_name=self.index_name\n",
    "        )\n",
    "\n",
    "        system_prompt = (\n",
    "            \"Use the given context to answer the question. \"\n",
    "            \"If you don't know the answer, say you don't know. \"\n",
    "            \"Use five sentences maximum and keep the answer concise. \"\n",
    "            \"Context: {context}\"\n",
    "        )\n",
    "        prompt = ChatPromptTemplate.from_messages(\n",
    "            [\n",
    "                (\"system\", system_prompt),\n",
    "                (\"human\", \"{input}\"),\n",
    "            ]\n",
    "        )\n",
    "        self.question_answer_chain = create_stuff_documents_chain(self.llm, prompt)\n",
    "        self.chain = create_retrieval_chain(self.retriever, self.question_answer_chain)\n",
    "\n",
    "    def query(self, user_query):\n",
    "        response = self.chain.invoke({\"input\": query})['answer']\n",
    "        return response"
   ]
  },
  {
   "cell_type": "code",
   "execution_count": 1,
   "metadata": {},
   "outputs": [
    {
     "name": "stdout",
     "output_type": "stream",
     "text": [
      "La cellule 909 du bâtiment Dégainage contient les échangeurs A1 et C1. Elle est située dans l'angle nord-est du hall 706, au niveau -3,06 m. Elle possède une trappe d'accès depuis la passerelle 706. Des déchets de différents types (gravats, plastiques, caoutchoucs, papiers, métallique) sont présents au sol de la cellule. Les tuyauteries sont en bon état général et un ancrage est présent dans le mur côté hall 730. Des mesures de DdD ont été réalisées au niveau de l'accès dans la cellule. Une investigation vidéo a également été effectuée pour voir l'état général de la cellule et l'implantation des équipements et des tuyauteries.\n"
     ]
    }
   ],
   "source": [
    "\n",
    "from chat import Chatbot\n",
    "\n",
    "chatbot = Chatbot()\n",
    "# query = \"quelle est l'objectif du compte rendu de la cellule 951 DEG\"\n",
    "# query = \"de quoi il s'agit l'investigaton dans la zone nord ouest\"\n",
    "# query = \"de quoi il s'agit Investigation sur l’ensemble porte-lame cellule 904\"\n",
    "# query = \"qu'elles sont les équipements investigués sur le périmètre DEG\"\n",
    "# query = \"qu'elle est ledebit de dose de la 951 du DEG\"\n",
    "query = \"qu'elles sont les informations de la cellule 909 du DEG\"\n",
    "# query = \"qu'elle est la dimension de la boue de de la fosse 217-02 du DEG\"\n",
    "# query = \"DDD des PE de boues sur la fosse 217-02 du DEG\"\n",
    "# query = \"enseignements sur investigation de la cellule 959B du HADE\"\n",
    "# query = \"quelles les informations sur l'état de la cellule 929A du périmètre HADE\"\n",
    "response = chatbot.ask(query)\n",
    "print(response)"
   ]
  }
 ],
 "metadata": {
  "kernelspec": {
   "display_name": ".venv",
   "language": "python",
   "name": "python3"
  },
  "language_info": {
   "codemirror_mode": {
    "name": "ipython",
    "version": 3
   },
   "file_extension": ".py",
   "mimetype": "text/x-python",
   "name": "python",
   "nbconvert_exporter": "python",
   "pygments_lexer": "ipython3",
   "version": "3.12.3"
  }
 },
 "nbformat": 4,
 "nbformat_minor": 2
}
